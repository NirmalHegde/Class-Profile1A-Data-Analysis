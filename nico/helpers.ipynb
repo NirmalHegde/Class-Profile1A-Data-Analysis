{
 "cells": [
  {
   "cell_type": "code",
   "execution_count": 1,
   "metadata": {},
   "outputs": [],
   "source": [
    "import pandas as pd \n",
    "import seaborn as sns\n",
    "%matplotlib inline\n",
    "import numpy as np\n",
    "pd.options.mode.chained_assignment = None"
   ]
  },
  {
   "cell_type": "code",
   "execution_count": null,
   "metadata": {},
   "outputs": [],
   "source": [
    "# write a function to calculate any term averages\n",
    "# half_credit = ['101', '101L', '113']\n",
    "# full_credit = ['111', '121', '161', '181']\n",
    "\n",
    "def calc_row_avg(data, rel_weight=[1]):\n",
    "    \"\"\"\n",
    "    Calculate the average of some data\n",
    "\n",
    "    Args:\n",
    "        data: Some data as a dataframe or series\n",
    "        rel_weight: The relative weighting of each column\n",
    "    Returns:\n",
    "        The data with a new column that averages each row\n",
    "    \"\"\"\n",
    "    \n",
    "    def row_avg(row, weightings):\n",
    "        \n",
    "    "
   ]
  }
 ],
 "metadata": {
  "kernelspec": {
   "display_name": "Python 3",
   "language": "python",
   "name": "python3"
  },
  "language_info": {
   "codemirror_mode": {
    "name": "ipython",
    "version": 3
   },
   "file_extension": ".py",
   "mimetype": "text/x-python",
   "name": "python",
   "nbconvert_exporter": "python",
   "pygments_lexer": "ipython3",
   "version": "3.8.7"
  }
 },
 "nbformat": 4,
 "nbformat_minor": 4
}
